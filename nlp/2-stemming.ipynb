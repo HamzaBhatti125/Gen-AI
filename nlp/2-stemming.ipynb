{
 "cells": [
  {
   "cell_type": "markdown",
   "id": "18bc3c2c",
   "metadata": {},
   "source": [
    "#### Stemming\n",
    "Stemming is the process to convert the word into it's word stem"
   ]
  },
  {
   "cell_type": "code",
   "execution_count": 18,
   "id": "806c4954",
   "metadata": {},
   "outputs": [],
   "source": [
    "### Stemming\n",
    "words = [\"running\", \"jumps\", \"easily\", \"fairness\", \"programming\", \"finally\", \"finalize\"]"
   ]
  },
  {
   "cell_type": "markdown",
   "id": "f8e877f4",
   "metadata": {},
   "source": [
    "### PorterStemmer"
   ]
  },
  {
   "cell_type": "code",
   "execution_count": 7,
   "id": "c46edcf9",
   "metadata": {},
   "outputs": [],
   "source": [
    "from nltk.stem import PorterStemmer"
   ]
  },
  {
   "cell_type": "code",
   "execution_count": 8,
   "id": "613dedbd",
   "metadata": {},
   "outputs": [],
   "source": [
    "stemming = PorterStemmer()"
   ]
  },
  {
   "cell_type": "code",
   "execution_count": 9,
   "id": "cd056899",
   "metadata": {},
   "outputs": [
    {
     "name": "stdout",
     "output_type": "stream",
     "text": [
      "running -> run\n",
      "jumps -> jump\n",
      "easily -> easili\n",
      "fairness -> fair\n",
      "programming -> program\n",
      "finally -> final\n",
      "finalize -> final\n"
     ]
    }
   ],
   "source": [
    "for word in words:\n",
    "    print(f\"{word} -> {stemming.stem(word)}\")"
   ]
  },
  {
   "cell_type": "code",
   "execution_count": 10,
   "id": "7bfcdb16",
   "metadata": {},
   "outputs": [
    {
     "data": {
      "text/plain": [
       "'contratul'"
      ]
     },
     "execution_count": 10,
     "metadata": {},
     "output_type": "execute_result"
    }
   ],
   "source": [
    "stemming.stem(\"Contratulations\")"
   ]
  },
  {
   "cell_type": "markdown",
   "id": "14acdab7",
   "metadata": {},
   "source": [
    "#### RegexStemmer class"
   ]
  },
  {
   "cell_type": "code",
   "execution_count": 11,
   "id": "44d88ab4",
   "metadata": {},
   "outputs": [],
   "source": [
    "from nltk.stem import RegexpStemmer"
   ]
  },
  {
   "cell_type": "code",
   "execution_count": 13,
   "id": "f017f87f",
   "metadata": {},
   "outputs": [],
   "source": [
    "reg_stemmer = RegexpStemmer(\"ing$|s$|e$|able$\", min=4)"
   ]
  },
  {
   "cell_type": "code",
   "execution_count": 14,
   "id": "40d9585b",
   "metadata": {},
   "outputs": [
    {
     "data": {
      "text/plain": [
       "'runn'"
      ]
     },
     "execution_count": 14,
     "metadata": {},
     "output_type": "execute_result"
    }
   ],
   "source": [
    "reg_stemmer.stem(\"running\")"
   ]
  },
  {
   "cell_type": "markdown",
   "id": "3c6340da",
   "metadata": {},
   "source": [
    "### Snowball Stemming"
   ]
  },
  {
   "cell_type": "code",
   "execution_count": 15,
   "id": "b3f50b69",
   "metadata": {},
   "outputs": [],
   "source": [
    "from nltk.stem import SnowballStemmer"
   ]
  },
  {
   "cell_type": "code",
   "execution_count": 16,
   "id": "3fd06d05",
   "metadata": {},
   "outputs": [],
   "source": [
    "snowball_stemmer = SnowballStemmer('english')"
   ]
  },
  {
   "cell_type": "code",
   "execution_count": 17,
   "id": "7f5ab044",
   "metadata": {},
   "outputs": [
    {
     "name": "stdout",
     "output_type": "stream",
     "text": [
      "running -> run\n",
      "jumps -> jump\n",
      "easily -> easili\n",
      "fairness -> fair\n",
      "programming -> program\n",
      "finally -> final\n",
      "finalize -> final\n"
     ]
    }
   ],
   "source": [
    "for word in words:\n",
    "    print(f\"{word} -> {snowball_stemmer.stem(word)}\")"
   ]
  },
  {
   "cell_type": "markdown",
   "id": "d00352e2",
   "metadata": {},
   "source": [
    "Since stemming is working good on many words but there are so many other words where stemming is failed to convert it correctly like easily. So, for that we need to use a technique called lemmitization"
   ]
  }
 ],
 "metadata": {
  "kernelspec": {
   "display_name": "venv",
   "language": "python",
   "name": "python3"
  },
  "language_info": {
   "codemirror_mode": {
    "name": "ipython",
    "version": 3
   },
   "file_extension": ".py",
   "mimetype": "text/x-python",
   "name": "python",
   "nbconvert_exporter": "python",
   "pygments_lexer": "ipython3",
   "version": "3.12.3"
  }
 },
 "nbformat": 4,
 "nbformat_minor": 5
}
