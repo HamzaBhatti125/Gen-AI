{
 "cells": [
  {
   "cell_type": "code",
   "execution_count": 17,
   "id": "4714f8ad",
   "metadata": {},
   "outputs": [],
   "source": [
    "corpus = \"\"\"Hello welcome, to my world.\n",
    "I am a software engineer!\n",
    "I love to code in Python.\n",
    "I also enjoy solving problems.\"\"\"\n"
   ]
  },
  {
   "cell_type": "code",
   "execution_count": 18,
   "id": "cfb51125",
   "metadata": {},
   "outputs": [
    {
     "name": "stdout",
     "output_type": "stream",
     "text": [
      "Hello welcome, to my world.\n",
      "I am a software engineer!\n",
      "I love to code in Python.\n",
      "I also enjoy solving problems.\n"
     ]
    }
   ],
   "source": [
    "print(corpus)"
   ]
  },
  {
   "cell_type": "code",
   "execution_count": 20,
   "id": "41597b6c",
   "metadata": {},
   "outputs": [
    {
     "name": "stdout",
     "output_type": "stream",
     "text": [
      "['Hello welcome, to my world.', 'I am a software engineer!', 'I love to code in Python.', 'I also enjoy solving problems.']\n"
     ]
    },
    {
     "name": "stderr",
     "output_type": "stream",
     "text": [
      "[nltk_data] Downloading package punkt_tab to\n",
      "[nltk_data]     /home/hamzabhatti18/nltk_data...\n",
      "[nltk_data]   Package punkt_tab is already up-to-date!\n"
     ]
    }
   ],
   "source": [
    "from nltk.tokenize import sent_tokenize\n",
    "import nltk\n",
    "nltk.download('punkt_tab')\n",
    "sentences = sent_tokenize(corpus)\n",
    "print(sentences)"
   ]
  },
  {
   "cell_type": "code",
   "execution_count": 21,
   "id": "8f0f4cf9",
   "metadata": {},
   "outputs": [],
   "source": [
    "documents = sent_tokenize(corpus)"
   ]
  },
  {
   "cell_type": "code",
   "execution_count": 22,
   "id": "b980fae1",
   "metadata": {},
   "outputs": [
    {
     "data": {
      "text/plain": [
       "list"
      ]
     },
     "execution_count": 22,
     "metadata": {},
     "output_type": "execute_result"
    }
   ],
   "source": [
    "type(documents)"
   ]
  },
  {
   "cell_type": "code",
   "execution_count": 23,
   "id": "a3405b1c",
   "metadata": {},
   "outputs": [
    {
     "name": "stdout",
     "output_type": "stream",
     "text": [
      "Hello welcome, to my world.\n",
      "I am a software engineer!\n",
      "I love to code in Python.\n",
      "I also enjoy solving problems.\n"
     ]
    }
   ],
   "source": [
    "for sentence in documents:\n",
    "    print(sentence)"
   ]
  },
  {
   "cell_type": "code",
   "execution_count": 24,
   "id": "9774d40b",
   "metadata": {},
   "outputs": [],
   "source": [
    "## Tokenization\n",
    "## Paragraph --> sentence --> word\n",
    "from nltk.tokenize import word_tokenize\n"
   ]
  },
  {
   "cell_type": "code",
   "execution_count": 25,
   "id": "9d9dc8e6",
   "metadata": {},
   "outputs": [
    {
     "data": {
      "text/plain": [
       "['Hello',\n",
       " 'welcome',\n",
       " ',',\n",
       " 'to',\n",
       " 'my',\n",
       " 'world',\n",
       " '.',\n",
       " 'I',\n",
       " 'am',\n",
       " 'a',\n",
       " 'software',\n",
       " 'engineer',\n",
       " '!',\n",
       " 'I',\n",
       " 'love',\n",
       " 'to',\n",
       " 'code',\n",
       " 'in',\n",
       " 'Python',\n",
       " '.',\n",
       " 'I',\n",
       " 'also',\n",
       " 'enjoy',\n",
       " 'solving',\n",
       " 'problems',\n",
       " '.']"
      ]
     },
     "execution_count": 25,
     "metadata": {},
     "output_type": "execute_result"
    }
   ],
   "source": [
    "word_tokenize(corpus)"
   ]
  },
  {
   "cell_type": "code",
   "execution_count": 26,
   "id": "24d4b930",
   "metadata": {},
   "outputs": [
    {
     "name": "stdout",
     "output_type": "stream",
     "text": [
      "['Hello', 'welcome', ',', 'to', 'my', 'world', '.']\n",
      "['I', 'am', 'a', 'software', 'engineer', '!']\n",
      "['I', 'love', 'to', 'code', 'in', 'Python', '.']\n",
      "['I', 'also', 'enjoy', 'solving', 'problems', '.']\n"
     ]
    }
   ],
   "source": [
    "for sentence in documents:\n",
    "    print(word_tokenize(sentence))"
   ]
  },
  {
   "cell_type": "code",
   "execution_count": 27,
   "id": "e26a3fae",
   "metadata": {},
   "outputs": [],
   "source": [
    "from nltk.tokenize import wordpunct_tokenize"
   ]
  },
  {
   "cell_type": "code",
   "execution_count": 28,
   "id": "33aed65d",
   "metadata": {},
   "outputs": [
    {
     "data": {
      "text/plain": [
       "['Hello',\n",
       " 'welcome',\n",
       " ',',\n",
       " 'to',\n",
       " 'my',\n",
       " 'world',\n",
       " '.',\n",
       " 'I',\n",
       " 'am',\n",
       " 'a',\n",
       " 'software',\n",
       " 'engineer',\n",
       " '!',\n",
       " 'I',\n",
       " 'love',\n",
       " 'to',\n",
       " 'code',\n",
       " 'in',\n",
       " 'Python',\n",
       " '.',\n",
       " 'I',\n",
       " 'also',\n",
       " 'enjoy',\n",
       " 'solving',\n",
       " 'problems',\n",
       " '.']"
      ]
     },
     "execution_count": 28,
     "metadata": {},
     "output_type": "execute_result"
    }
   ],
   "source": [
    "wordpunct_tokenize(corpus)"
   ]
  },
  {
   "cell_type": "code",
   "execution_count": 29,
   "id": "4c403b33",
   "metadata": {},
   "outputs": [],
   "source": [
    "from nltk.tokenize import TreebankWordTokenizer"
   ]
  },
  {
   "cell_type": "code",
   "execution_count": 30,
   "id": "f8b204be",
   "metadata": {},
   "outputs": [],
   "source": [
    "tokenizer = TreebankWordTokenizer()"
   ]
  },
  {
   "cell_type": "code",
   "execution_count": 31,
   "id": "a713862c",
   "metadata": {},
   "outputs": [
    {
     "data": {
      "text/plain": [
       "['Hello',\n",
       " 'welcome',\n",
       " ',',\n",
       " 'to',\n",
       " 'my',\n",
       " 'world.',\n",
       " 'I',\n",
       " 'am',\n",
       " 'a',\n",
       " 'software',\n",
       " 'engineer',\n",
       " '!',\n",
       " 'I',\n",
       " 'love',\n",
       " 'to',\n",
       " 'code',\n",
       " 'in',\n",
       " 'Python.',\n",
       " 'I',\n",
       " 'also',\n",
       " 'enjoy',\n",
       " 'solving',\n",
       " 'problems',\n",
       " '.']"
      ]
     },
     "execution_count": 31,
     "metadata": {},
     "output_type": "execute_result"
    }
   ],
   "source": [
    "tokenizer.tokenize(corpus)"
   ]
  }
 ],
 "metadata": {
  "kernelspec": {
   "display_name": "venv",
   "language": "python",
   "name": "python3"
  },
  "language_info": {
   "codemirror_mode": {
    "name": "ipython",
    "version": 3
   },
   "file_extension": ".py",
   "mimetype": "text/x-python",
   "name": "python",
   "nbconvert_exporter": "python",
   "pygments_lexer": "ipython3",
   "version": "3.12.3"
  }
 },
 "nbformat": 4,
 "nbformat_minor": 5
}
