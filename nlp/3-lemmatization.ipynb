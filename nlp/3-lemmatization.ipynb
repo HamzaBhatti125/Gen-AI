{
 "cells": [
  {
   "cell_type": "markdown",
   "id": "c30643be",
   "metadata": {},
   "source": [
    "### Wordnet Lemmatizer\n",
    "Lemmatization is a technique like stemming. The word we will get after the process is called lemma, which is a root word rather than root stem"
   ]
  },
  {
   "cell_type": "code",
   "execution_count": 1,
   "id": "345f0cac",
   "metadata": {},
   "outputs": [],
   "source": [
    "from nltk.stem import WordNetLemmatizer"
   ]
  },
  {
   "cell_type": "code",
   "execution_count": 5,
   "id": "98abae1a",
   "metadata": {},
   "outputs": [
    {
     "name": "stderr",
     "output_type": "stream",
     "text": [
      "[nltk_data] Downloading package wordnet to\n",
      "[nltk_data]     /home/hamzabhatti18/nltk_data...\n"
     ]
    },
    {
     "data": {
      "text/plain": [
       "True"
      ]
     },
     "execution_count": 5,
     "metadata": {},
     "output_type": "execute_result"
    }
   ],
   "source": [
    "import nltk\n",
    "nltk.download('wordnet')"
   ]
  },
  {
   "cell_type": "code",
   "execution_count": 8,
   "id": "24988132",
   "metadata": {},
   "outputs": [
    {
     "data": {
      "text/plain": [
       "'running'"
      ]
     },
     "execution_count": 8,
     "metadata": {},
     "output_type": "execute_result"
    }
   ],
   "source": [
    "'''\n",
    "POS- Noun-n\n",
    "POS- Verb-v\n",
    "POS- Adjective-a\n",
    "POS- Adverb-r\n",
    "'''\n",
    "lemmatizer = WordNetLemmatizer()\n",
    "lemmatizer.lemmatize('running', pos='v')  # 'run'\n",
    "lemmatizer.lemmatize('running', pos='n')  # 'running'\n",
    "lemmatizer.lemmatize('running', pos='a')  # 'running'\n",
    "lemmatizer.lemmatize('running', pos='r')  # 'running'"
   ]
  },
  {
   "cell_type": "code",
   "execution_count": 9,
   "id": "a9175268",
   "metadata": {},
   "outputs": [
    {
     "name": "stdout",
     "output_type": "stream",
     "text": [
      "Word: running\n",
      "Lemmatized (verb): run\n",
      "Lemmatized (noun): running\n",
      "Lemmatized (adjective): running\n",
      "Lemmatized (adverb): running\n",
      "\n",
      "Word: jumps\n",
      "Lemmatized (verb): jump\n",
      "Lemmatized (noun): jump\n",
      "Lemmatized (adjective): jumps\n",
      "Lemmatized (adverb): jumps\n",
      "\n",
      "Word: easily\n",
      "Lemmatized (verb): easily\n",
      "Lemmatized (noun): easily\n",
      "Lemmatized (adjective): easily\n",
      "Lemmatized (adverb): easily\n",
      "\n",
      "Word: fairness\n",
      "Lemmatized (verb): fairness\n",
      "Lemmatized (noun): fairness\n",
      "Lemmatized (adjective): fairness\n",
      "Lemmatized (adverb): fairness\n",
      "\n",
      "Word: programming\n",
      "Lemmatized (verb): program\n",
      "Lemmatized (noun): programming\n",
      "Lemmatized (adjective): programming\n",
      "Lemmatized (adverb): programming\n",
      "\n",
      "Word: finally\n",
      "Lemmatized (verb): finally\n",
      "Lemmatized (noun): finally\n",
      "Lemmatized (adjective): finally\n",
      "Lemmatized (adverb): finally\n",
      "\n",
      "Word: finalize\n",
      "Lemmatized (verb): finalize\n",
      "Lemmatized (noun): finalize\n",
      "Lemmatized (adjective): finalize\n",
      "Lemmatized (adverb): finalize\n",
      "\n"
     ]
    }
   ],
   "source": [
    "words = [\"running\", \"jumps\", \"easily\", \"fairness\", \"programming\", \"finally\", \"finalize\"]\n",
    "for word in words:\n",
    "    print(f\"Word: {word}\")\n",
    "    print(f\"Lemmatized (verb): {lemmatizer.lemmatize(word, pos='v')}\")\n",
    "    print(f\"Lemmatized (noun): {lemmatizer.lemmatize(word, pos='n')}\")\n",
    "    print(f\"Lemmatized (adjective): {lemmatizer.lemmatize(word, pos='a')}\")\n",
    "    print(f\"Lemmatized (adverb): {lemmatizer.lemmatize(word, pos='r')}\")\n",
    "    print()"
   ]
  },
  {
   "cell_type": "code",
   "execution_count": 10,
   "id": "634f39fe",
   "metadata": {},
   "outputs": [
    {
     "data": {
      "text/plain": [
       "'go'"
      ]
     },
     "execution_count": 10,
     "metadata": {},
     "output_type": "execute_result"
    }
   ],
   "source": [
    "lemmatizer.lemmatize('goes', pos='v')  # 'go'"
   ]
  },
  {
   "cell_type": "code",
   "execution_count": 11,
   "id": "d28c8630",
   "metadata": {},
   "outputs": [
    {
     "data": {
      "text/plain": [
       "('fairly', 'sportly')"
      ]
     },
     "execution_count": 11,
     "metadata": {},
     "output_type": "execute_result"
    }
   ],
   "source": [
    "lemmatizer.lemmatize('fairly', pos='v'), lemmatizer.lemmatize('sportly', pos='v')"
   ]
  }
 ],
 "metadata": {
  "kernelspec": {
   "display_name": "venv",
   "language": "python",
   "name": "python3"
  },
  "language_info": {
   "codemirror_mode": {
    "name": "ipython",
    "version": 3
   },
   "file_extension": ".py",
   "mimetype": "text/x-python",
   "name": "python",
   "nbconvert_exporter": "python",
   "pygments_lexer": "ipython3",
   "version": "3.12.3"
  }
 },
 "nbformat": 4,
 "nbformat_minor": 5
}
